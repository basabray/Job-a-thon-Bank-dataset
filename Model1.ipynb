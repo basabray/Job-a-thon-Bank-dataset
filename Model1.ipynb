{
 "cells": [
  {
   "cell_type": "markdown",
   "metadata": {},
   "source": [
    "## Problem Statement\n",
    "- Happy Customer Bank is a mid-sized private bank that deals in all kinds of banking products, like Savings accounts, Current accounts, investment products, credit products, among other offerings. The bank also cross-sells products to its existing customers and to do so they use different kinds of communication like tele-calling, e-mails, recommendations on net banking, mobile banking, etc. \n",
    "\n",
    "- In this case, the Happy Customer Bank wants to cross sell its credit cards to its existing customers. The bank has identified a set of customers that are eligible for taking these credit cards.\n",
    "\n",
    "- Now, the bank is looking for your help in identifying customers that could show higher intent towards a recommended credit card, given:\n",
    "\n",
    "- Customer details (gender, age, region etc.)\n",
    "- Details of his/her relationship with the bank (Channel_Code,Vintage, 'Avg_Asset_Value etc.)"
   ]
  },
  {
   "cell_type": "markdown",
   "metadata": {},
   "source": [
    "## Table of Content"
   ]
  },
  {
   "cell_type": "markdown",
   "metadata": {},
   "source": [
    "* __Step 1: Importing the Relevant Libraries__\n",
    "    \n",
    "* __Step 2: Data Inspection__\n",
    "    \n",
    "* __Step 3: Data Cleaning__\n",
    "    \n",
    "* __Step 4: Exploratory Data Analysis__\n",
    "    \n",
    "* __Step 5: Building Model__\n",
    "    \n",
    "* __Submission__"
   ]
  },
  {
   "cell_type": "markdown",
   "metadata": {},
   "source": [
    "### Step 1: Importing the Relevant Libraries"
   ]
  },
  {
   "cell_type": "code",
   "execution_count": 1,
   "metadata": {},
   "outputs": [],
   "source": [
    "import matplotlib.pyplot as plt\n",
    "import pandas as pd\n",
    "import numpy as np\n",
    "import seaborn as sns\n",
    "\n",
    "from sklearn.preprocessing import LabelEncoder\n",
    "from sklearn.model_selection import train_test_split\n",
    "from sklearn import metrics\n",
    "from sklearn.linear_model import LinearRegression\n",
    "\n",
    "import warnings\n",
    "warnings.filterwarnings('always')\n",
    "warnings.filterwarnings('ignore')"
   ]
  },
  {
   "cell_type": "markdown",
   "metadata": {},
   "source": [
    "### Step 2: Data Inspection"
   ]
  },
  {
   "cell_type": "code",
   "execution_count": 2,
   "metadata": {},
   "outputs": [],
   "source": [
    "train = pd.read_csv(\"train_s3TEQDk.csv\")\n",
    "test = pd.read_csv(\"test_mSzZ8RL.csv\")"
   ]
  },
  {
   "cell_type": "code",
   "execution_count": 3,
   "metadata": {},
   "outputs": [
    {
     "data": {
      "text/plain": [
       "((245725, 11), (105312, 10))"
      ]
     },
     "execution_count": 3,
     "metadata": {},
     "output_type": "execute_result"
    }
   ],
   "source": [
    "train.shape,test.shape"
   ]
  },
  {
   "cell_type": "markdown",
   "metadata": {},
   "source": [
    "- Train set has 245725 rows and 11 columns\n",
    "- Test set has 105312 rows and 10 columns"
   ]
  },
  {
   "cell_type": "code",
   "execution_count": 4,
   "metadata": {},
   "outputs": [
    {
     "data": {
      "text/html": [
       "<div>\n",
       "<style scoped>\n",
       "    .dataframe tbody tr th:only-of-type {\n",
       "        vertical-align: middle;\n",
       "    }\n",
       "\n",
       "    .dataframe tbody tr th {\n",
       "        vertical-align: top;\n",
       "    }\n",
       "\n",
       "    .dataframe thead th {\n",
       "        text-align: right;\n",
       "    }\n",
       "</style>\n",
       "<table border=\"1\" class=\"dataframe\">\n",
       "  <thead>\n",
       "    <tr style=\"text-align: right;\">\n",
       "      <th></th>\n",
       "      <th>ID</th>\n",
       "      <th>Gender</th>\n",
       "      <th>Age</th>\n",
       "      <th>Region_Code</th>\n",
       "      <th>Occupation</th>\n",
       "      <th>Channel_Code</th>\n",
       "      <th>Vintage</th>\n",
       "      <th>Credit_Product</th>\n",
       "      <th>Avg_Account_Balance</th>\n",
       "      <th>Is_Active</th>\n",
       "      <th>Is_Lead</th>\n",
       "    </tr>\n",
       "  </thead>\n",
       "  <tbody>\n",
       "    <tr>\n",
       "      <th>0</th>\n",
       "      <td>NNVBBKZB</td>\n",
       "      <td>Female</td>\n",
       "      <td>73</td>\n",
       "      <td>RG268</td>\n",
       "      <td>Other</td>\n",
       "      <td>X3</td>\n",
       "      <td>43</td>\n",
       "      <td>No</td>\n",
       "      <td>1045696</td>\n",
       "      <td>No</td>\n",
       "      <td>0</td>\n",
       "    </tr>\n",
       "    <tr>\n",
       "      <th>1</th>\n",
       "      <td>IDD62UNG</td>\n",
       "      <td>Female</td>\n",
       "      <td>30</td>\n",
       "      <td>RG277</td>\n",
       "      <td>Salaried</td>\n",
       "      <td>X1</td>\n",
       "      <td>32</td>\n",
       "      <td>No</td>\n",
       "      <td>581988</td>\n",
       "      <td>No</td>\n",
       "      <td>0</td>\n",
       "    </tr>\n",
       "    <tr>\n",
       "      <th>2</th>\n",
       "      <td>HD3DSEMC</td>\n",
       "      <td>Female</td>\n",
       "      <td>56</td>\n",
       "      <td>RG268</td>\n",
       "      <td>Self_Employed</td>\n",
       "      <td>X3</td>\n",
       "      <td>26</td>\n",
       "      <td>No</td>\n",
       "      <td>1484315</td>\n",
       "      <td>Yes</td>\n",
       "      <td>0</td>\n",
       "    </tr>\n",
       "    <tr>\n",
       "      <th>3</th>\n",
       "      <td>BF3NC7KV</td>\n",
       "      <td>Male</td>\n",
       "      <td>34</td>\n",
       "      <td>RG270</td>\n",
       "      <td>Salaried</td>\n",
       "      <td>X1</td>\n",
       "      <td>19</td>\n",
       "      <td>No</td>\n",
       "      <td>470454</td>\n",
       "      <td>No</td>\n",
       "      <td>0</td>\n",
       "    </tr>\n",
       "    <tr>\n",
       "      <th>4</th>\n",
       "      <td>TEASRWXV</td>\n",
       "      <td>Female</td>\n",
       "      <td>30</td>\n",
       "      <td>RG282</td>\n",
       "      <td>Salaried</td>\n",
       "      <td>X1</td>\n",
       "      <td>33</td>\n",
       "      <td>No</td>\n",
       "      <td>886787</td>\n",
       "      <td>No</td>\n",
       "      <td>0</td>\n",
       "    </tr>\n",
       "  </tbody>\n",
       "</table>\n",
       "</div>"
      ],
      "text/plain": [
       "         ID  Gender  Age Region_Code     Occupation Channel_Code  Vintage  \\\n",
       "0  NNVBBKZB  Female   73       RG268          Other           X3       43   \n",
       "1  IDD62UNG  Female   30       RG277       Salaried           X1       32   \n",
       "2  HD3DSEMC  Female   56       RG268  Self_Employed           X3       26   \n",
       "3  BF3NC7KV    Male   34       RG270       Salaried           X1       19   \n",
       "4  TEASRWXV  Female   30       RG282       Salaried           X1       33   \n",
       "\n",
       "  Credit_Product  Avg_Account_Balance Is_Active  Is_Lead  \n",
       "0             No              1045696        No        0  \n",
       "1             No               581988        No        0  \n",
       "2             No              1484315       Yes        0  \n",
       "3             No               470454        No        0  \n",
       "4             No               886787        No        0  "
      ]
     },
     "execution_count": 4,
     "metadata": {},
     "output_type": "execute_result"
    }
   ],
   "source": [
    "train.head()"
   ]
  },
  {
   "cell_type": "code",
   "execution_count": 6,
   "metadata": {},
   "outputs": [
    {
     "data": {
      "text/plain": [
       "ID                      0.000000\n",
       "Gender                  0.000000\n",
       "Age                     0.000000\n",
       "Region_Code             0.000000\n",
       "Occupation              0.000000\n",
       "Channel_Code            0.000000\n",
       "Vintage                 0.000000\n",
       "Credit_Product         11.934073\n",
       "Avg_Account_Balance     0.000000\n",
       "Is_Active               0.000000\n",
       "Is_Lead                 0.000000\n",
       "dtype: float64"
      ]
     },
     "execution_count": 6,
     "metadata": {},
     "output_type": "execute_result"
    }
   ],
   "source": [
    "#ratio of null values\n",
    "train.isnull().sum()/train.shape[0]*100"
   ]
  },
  {
   "cell_type": "code",
   "execution_count": 7,
   "metadata": {},
   "outputs": [
    {
     "data": {
      "text/plain": [
       "ID                      0.000000\n",
       "Gender                  0.000000\n",
       "Age                     0.000000\n",
       "Region_Code             0.000000\n",
       "Occupation              0.000000\n",
       "Channel_Code            0.000000\n",
       "Vintage                 0.000000\n",
       "Credit_Product         11.890383\n",
       "Avg_Account_Balance     0.000000\n",
       "Is_Active               0.000000\n",
       "dtype: float64"
      ]
     },
     "execution_count": 7,
     "metadata": {},
     "output_type": "execute_result"
    }
   ],
   "source": [
    "#ratio of null values\n",
    "test.isnull().sum()/test.shape[0]*100"
   ]
  },
  {
   "cell_type": "markdown",
   "metadata": {},
   "source": [
    "- It seems there is almost 12% missing values in Credit_Product, Which indicates if the Customer has any active credit product (Home loan, Personal loan, Credit Card etc)"
   ]
  },
  {
   "cell_type": "code",
   "execution_count": 8,
   "metadata": {},
   "outputs": [
    {
     "name": "stdout",
     "output_type": "stream",
     "text": [
      "Categorical Features in Train Set: 7\n",
      "Numerical Features in Train Set: 4\n"
     ]
    }
   ],
   "source": [
    "#categorical features\n",
    "categorical = train.select_dtypes(include =[np.object])\n",
    "print(\"Categorical Features in Train Set:\",categorical.shape[1])\n",
    "\n",
    "#numerical features\n",
    "numerical= train.select_dtypes(include =[np.float64,np.int64])\n",
    "print(\"Numerical Features in Train Set:\",numerical.shape[1])"
   ]
  },
  {
   "cell_type": "code",
   "execution_count": 9,
   "metadata": {},
   "outputs": [
    {
     "name": "stdout",
     "output_type": "stream",
     "text": [
      "Categorical Features in Test Set: 7\n",
      "Numerical Features in Test Set: 3\n"
     ]
    }
   ],
   "source": [
    "#categorical features\n",
    "categorical = test.select_dtypes(include =[np.object])\n",
    "print(\"Categorical Features in Test Set:\",categorical.shape[1])\n",
    "\n",
    "#numerical features\n",
    "numerical= test.select_dtypes(include =[np.float64,np.int64])\n",
    "print(\"Numerical Features in Test Set:\",numerical.shape[1])"
   ]
  },
  {
   "cell_type": "markdown",
   "metadata": {},
   "source": [
    "### Step 3: Data Cleaning"
   ]
  },
  {
   "cell_type": "markdown",
   "metadata": {},
   "source": [
    "#### Missing value treatment strategies: At first let's understand what are the possilbe reasons of the missing values in this data. There are two possible scenarios here: \n",
    "- Some of the customers presently are not holding any active credit product. So, for such customers this feature is showing missing values.\n",
    "- Also, there is a possibility that some customers are holding active credit product but not from this bank but from other baking partner. And this information is not shared by customers with 'Happy Customer Bank'. So, 'Happy Customer Bank' database is showing missing values for those set of customers."
   ]
  },
  {
   "cell_type": "markdown",
   "metadata": {},
   "source": [
    "#### Missing values treatment startegy:\n",
    "As per my assumption, I will treat this particular set of customers as a separate group where the active credit product data is not available or not shared. So, for the feature 'Credit_Product', I will consider 3 groups : \n",
    "- customers who are having active credit product ('Yes')\n",
    "- customers who are not having active credit product ('No')\n",
    "- and finally those customers where this data is not avaialble ('Missing') "
   ]
  },
  {
   "cell_type": "code",
   "execution_count": 10,
   "metadata": {},
   "outputs": [
    {
     "data": {
      "text/plain": [
       "ID                         0\n",
       "Gender                     0\n",
       "Age                        0\n",
       "Region_Code                0\n",
       "Occupation                 0\n",
       "Channel_Code               0\n",
       "Vintage                    0\n",
       "Credit_Product         29325\n",
       "Avg_Account_Balance        0\n",
       "Is_Active                  0\n",
       "Is_Lead                    0\n",
       "dtype: int64"
      ]
     },
     "execution_count": 10,
     "metadata": {},
     "output_type": "execute_result"
    }
   ],
   "source": [
    "train.isnull().sum()"
   ]
  },
  {
   "cell_type": "code",
   "execution_count": 11,
   "metadata": {},
   "outputs": [
    {
     "data": {
      "text/plain": [
       "ID                         0\n",
       "Gender                     0\n",
       "Age                        0\n",
       "Region_Code                0\n",
       "Occupation                 0\n",
       "Channel_Code               0\n",
       "Vintage                    0\n",
       "Credit_Product         12522\n",
       "Avg_Account_Balance        0\n",
       "Is_Active                  0\n",
       "dtype: int64"
      ]
     },
     "execution_count": 11,
     "metadata": {},
     "output_type": "execute_result"
    }
   ],
   "source": [
    "test.isnull().sum()"
   ]
  },
  {
   "cell_type": "markdown",
   "metadata": {},
   "source": [
    "* __Missing value imputation in both train and test__"
   ]
  },
  {
   "cell_type": "code",
   "execution_count": 12,
   "metadata": {},
   "outputs": [
    {
     "name": "stdout",
     "output_type": "stream",
     "text": [
      "Before Imputation: 29325\n",
      "After Imputation: 0\n"
     ]
    }
   ],
   "source": [
    "# imputing the missing values from the column with 'Missing'\n",
    "print('Before Imputation:', train['Credit_Product'].isnull().sum())\n",
    "train['Credit_Product'].fillna('Missing', inplace=True)\n",
    "print('After Imputation:', train['Credit_Product'].isnull().sum())"
   ]
  },
  {
   "cell_type": "code",
   "execution_count": 13,
   "metadata": {},
   "outputs": [
    {
     "name": "stdout",
     "output_type": "stream",
     "text": [
      "Before Imputation: 12522\n",
      "After Imputation: 0\n"
     ]
    }
   ],
   "source": [
    "# imputing the missing values from the column with 'Missing'\n",
    "print('Before Imputation:', test['Credit_Product'].isnull().sum())\n",
    "test['Credit_Product'].fillna('Missing', inplace=True)\n",
    "print('After Imputation:', test['Credit_Product'].isnull().sum())"
   ]
  },
  {
   "cell_type": "markdown",
   "metadata": {},
   "source": [
    "### Step 4: Exploratory Data Analysis\n",
    "##### Question that were asked and answered through visualizations here are as following:\n",
    "- Q1. How the Vintage Scores across region look like?\n",
    "- Q2. Is there any Relationship visible between Occupation and Is_Lead?\n",
    "- Q3. Can Gender be a good feature in order to tell us if the customer is willing to take the recommended credit card or not?"
   ]
  },
  {
   "cell_type": "markdown",
   "metadata": {},
   "source": [
    "##### Univariate Analysis:"
   ]
  },
  {
   "cell_type": "code",
   "execution_count": 14,
   "metadata": {},
   "outputs": [
    {
     "data": {
      "text/plain": [
       "Index(['ID', 'Gender', 'Age', 'Region_Code', 'Occupation', 'Channel_Code',\n",
       "       'Vintage', 'Credit_Product', 'Avg_Account_Balance', 'Is_Active',\n",
       "       'Is_Lead'],\n",
       "      dtype='object')"
      ]
     },
     "execution_count": 14,
     "metadata": {},
     "output_type": "execute_result"
    }
   ],
   "source": [
    "train.columns"
   ]
  },
  {
   "cell_type": "code",
   "execution_count": 15,
   "metadata": {},
   "outputs": [
    {
     "data": {
      "text/plain": [
       "<AxesSubplot:ylabel='Is_Lead'>"
      ]
     },
     "execution_count": 15,
     "metadata": {},
     "output_type": "execute_result"
    },
    {
     "data": {
      "image/png": "[encoded data removed]",
      "text/plain": [
       "<Figure size 360x360 with 1 Axes>"
      ]
     },
     "metadata": {},
     "output_type": "display_data"
    }
   ],
   "source": [
    "#Let's look at the proportion of the customers:\n",
    "plt.figure(figsize=(5,5))\n",
    "train.Is_Lead.value_counts().plot.pie(explode=[0,0.25], autopct='%1.2f%%', shadow=True, fontsize=12, startangle=25)"
   ]
  },
  {
   "cell_type": "markdown",
   "metadata": {},
   "source": [
    "Observation:\n",
    "- It seems that out of the targetterd customers only 24% are interested to take the recommended credit card, whereas almost 76% are not."
   ]
  },
  {
   "cell_type": "code",
   "execution_count": 16,
   "metadata": {},
   "outputs": [
    {
     "data": {
      "image/png": "[encoded data removed]",
      "text/plain": [
       "<Figure size 432x288 with 1 Axes>"
      ]
     },
     "metadata": {
      "needs_background": "light"
     },
     "output_type": "display_data"
    }
   ],
   "source": [
    "#Let's see how the distribtion of 'Age' data looks like for the traget customers:\n",
    "sns.distplot(train['Age']);"
   ]
  },
  {
   "cell_type": "markdown",
   "metadata": {},
   "source": [
    "Observations:\n",
    "- 'Age' is having bi-modal distribution hereClearly there is a high spike at around 28-30\n",
    "- Clearly there is a high spike at around 28-30. It means that most of the target cutomers are of age around 28 to 30\n",
    "- Apart from that, there is a also moderate spike at the age around 47-49, which means people of this age are also appearing as potential customers\n",
    "- There are very few customers are of age greater than 80, now this high age does not seem to be good age to invest in new banking product such as a credit card. Because of many reasons like - he/she may need it rarely in comparison to younger aged customers, at this high age one might have stable but low income, high amount purchases are rare so need of credit card may not apply."
   ]
  },
  {
   "cell_type": "code",
   "execution_count": 17,
   "metadata": {},
   "outputs": [
    {
     "data": {
      "text/plain": [
       "<AxesSubplot:ylabel='Gender'>"
      ]
     },
     "execution_count": 17,
     "metadata": {},
     "output_type": "execute_result"
    },
    {
     "data": {
      "image/png": "[encoded data removed]",
      "text/plain": [
       "<Figure size 360x360 with 1 Axes>"
      ]
     },
     "metadata": {},
     "output_type": "display_data"
    }
   ],
   "source": [
    "#Who are the target customers gender-wise\n",
    "#Offered band\n",
    "plt.figure(figsize=(5,5))\n",
    "(train['Gender'].value_counts() * 100 / len(train)).plot.pie(autopct='%1.2f%%', shadow=True)"
   ]
  },
  {
   "cell_type": "markdown",
   "metadata": {},
   "source": [
    "Observation:\n",
    "- The target customer selection looks quite proportionate with respect to gender"
   ]
  },
  {
   "cell_type": "code",
   "execution_count": 41,
   "metadata": {},
   "outputs": [
    {
     "data": {
      "image/png": "[encoded data removed]",
      "text/plain": [
       "<Figure size 432x288 with 1 Axes>"
      ]
     },
     "metadata": {
      "needs_background": "light"
     },
     "output_type": "display_data"
    }
   ],
   "source": [
    "#Let's see how the distribtion of 'Avg_Account_Balance' data looks like for the traget customers:\n",
    "sns.distplot(train['Avg_Account_Balance']);"
   ]
  },
  {
   "cell_type": "markdown",
   "metadata": {},
   "source": [
    "Observation:\n",
    "- As expected, the Avg_Account_Balance data distribution is right skewed. Most of the customers is having avg balance of around 1000k "
   ]
  },
  {
   "cell_type": "code",
   "execution_count": 76,
   "metadata": {},
   "outputs": [
    {
     "data": {
      "image/png": "[encoded data removed]",
      "text/plain": [
       "<Figure size 576x360 with 1 Axes>"
      ]
     },
     "metadata": {
      "needs_background": "light"
     },
     "output_type": "display_data"
    }
   ],
   "source": [
    "#Occupation\n",
    "plt.figure(figsize=(8,5))\n",
    "sns.countplot('Occupation',data=train,palette='ocean');"
   ]
  },
  {
   "cell_type": "markdown",
   "metadata": {},
   "source": [
    "#### Bivaraite Analysis:"
   ]
  },
  {
   "cell_type": "markdown",
   "metadata": {},
   "source": [
    "1.__Vintage score vs Is_Lead:__"
   ]
  },
  {
   "cell_type": "code",
   "execution_count": 24,
   "metadata": {},
   "outputs": [],
   "source": [
    "#Vintage score vs Is_Lead:\n",
    "\n",
    "#Binning the Vintage score:\n",
    "def new(r):\n",
    "    if (0<= r['Vintage']<=20):\n",
    "        return '0 to 20'\n",
    "    if (20<r['Vintage']<=40):\n",
    "        return '20 to 40'\n",
    "    if (40<r['Vintage']<=60):\n",
    "        return '40 to 60'\n",
    "    if (60<r['Vintage']<=80):\n",
    "        return '60 to 80'\n",
    "    if (80<r['Vintage']<=100):\n",
    "        return '80 to 100'\n",
    "    if (100<r['Vintage']<=120):\n",
    "        return '100 to 120'\n",
    "    if (120<r['Vintage']):\n",
    "        return '120+'\n",
    "train['Vintage_new'] = train.apply(lambda x: new(x),axis = 1)"
   ]
  },
  {
   "cell_type": "code",
   "execution_count": 39,
   "metadata": {},
   "outputs": [
    {
     "data": {
      "text/plain": [
       "<AxesSubplot:xlabel='Vintage_new', ylabel='count'>"
      ]
     },
     "execution_count": 39,
     "metadata": {},
     "output_type": "execute_result"
    },
    {
     "data": {
      "text/plain": [
       "<Figure size 432x288 with 0 Axes>"
      ]
     },
     "metadata": {},
     "output_type": "display_data"
    },
    {
     "data": {
      "image/png": "[encoded data removed]",
      "text/plain": [
       "<Figure size 1080x288 with 1 Axes>"
      ]
     },
     "metadata": {
      "needs_background": "light"
     },
     "output_type": "display_data"
    }
   ],
   "source": [
    "fig = plt.figure()\n",
    "fig, plt.figure(figsize=(15,4))\n",
    "sns.countplot(train['Vintage_new'], hue=train['Is_Lead'])"
   ]
  },
  {
   "cell_type": "markdown",
   "metadata": {},
   "source": [
    "Obseravtions:\n",
    "- Customers from different vintage scoring group are showing interest to invest in the recommended credit card. Though, it seems customers with high vintage score are showing compartively more interets than customers with less vinatge scoring"
   ]
  },
  {
   "cell_type": "code",
   "execution_count": 66,
   "metadata": {},
   "outputs": [
    {
     "name": "stdout",
     "output_type": "stream",
     "text": [
      "Do not reject the Null hypothesis\n",
      "There is no relation between Vintage_new & Is_Lead\n"
     ]
    }
   ],
   "source": [
    "from scipy.stats import chi2_contingency\n",
    "# Contingency Table \n",
    "tab = pd.crosstab(train['Vintage_new'], train['Is_Lead'])\n",
    "chi2, p, dof, exp = chi2_contingency(tab)\n",
    "\n",
    "#check the p-value of the test:\n",
    "if p<0.05:\n",
    "    print('Reject the Null hypothesis')\n",
    "    print('There is a relation between Vintage_new & Is_Lead')\n",
    "else:\n",
    "    print('Do not reject the Null hypothesis')\n",
    "    print('There is no relation between Vintage_new & Is_Lead')"
   ]
  },
  {
   "cell_type": "markdown",
   "metadata": {},
   "source": [
    "2.__Avg_Account_Balance vs Is_Lead:__"
   ]
  },
  {
   "cell_type": "code",
   "execution_count": 58,
   "metadata": {},
   "outputs": [
    {
     "data": {
      "text/plain": [
       "Text(0.5, 1.0, 'Top 10 Regions')"
      ]
     },
     "execution_count": 58,
     "metadata": {},
     "output_type": "execute_result"
    },
    {
     "data": {
      "image/png": "[encoded data removed]",
      "text/plain": [
       "<Figure size 432x288 with 1 Axes>"
      ]
     },
     "metadata": {
      "needs_background": "light"
     },
     "output_type": "display_data"
    }
   ],
   "source": [
    "ax = train['Region_Code'].value_counts()[:10].plot(kind='barh')\n",
    "ax.set_title('Top 10 Regions')"
   ]
  },
  {
   "cell_type": "markdown",
   "metadata": {},
   "source": [
    "__Let's do chi2 test to establish the claim - Region_Code & Is_Lead may be related__"
   ]
  },
  {
   "cell_type": "code",
   "execution_count": 68,
   "metadata": {},
   "outputs": [
    {
     "name": "stdout",
     "output_type": "stream",
     "text": [
      "Reject the Null hypothesis\n",
      "There is a relation between Region_Code & Is_Lead\n"
     ]
    }
   ],
   "source": [
    "from scipy.stats import chi2_contingency\n",
    "# Contingency Table \n",
    "tab = pd.crosstab(train['Region_Code'], train['Is_Lead'])\n",
    "chi2, p, dof, exp = chi2_contingency(tab)\n",
    "\n",
    "#check the p-value of the test:\n",
    "if p<0.05:\n",
    "    print('Reject the Null hypothesis')\n",
    "    print('There is a relation between Region_Code & Is_Lead')\n",
    "else:\n",
    "    print('Do not reject the Null hypothesis')\n",
    "    print('There is no relation between Region_Code & Is_Lead')"
   ]
  },
  {
   "cell_type": "markdown",
   "metadata": {},
   "source": [
    "__Can avg account balance be a good decisive factor to identify a poetential customer?__"
   ]
  },
  {
   "cell_type": "code",
   "execution_count": 71,
   "metadata": {},
   "outputs": [
    {
     "data": {
      "text/html": [
       "<div>\n",
       "<style scoped>\n",
       "    .dataframe tbody tr th:only-of-type {\n",
       "        vertical-align: middle;\n",
       "    }\n",
       "\n",
       "    .dataframe tbody tr th {\n",
       "        vertical-align: top;\n",
       "    }\n",
       "\n",
       "    .dataframe thead th {\n",
       "        text-align: right;\n",
       "    }\n",
       "</style>\n",
       "<table border=\"1\" class=\"dataframe\">\n",
       "  <thead>\n",
       "    <tr style=\"text-align: right;\">\n",
       "      <th></th>\n",
       "      <th>Avg_Account_Balance</th>\n",
       "    </tr>\n",
       "    <tr>\n",
       "      <th>Is_Lead</th>\n",
       "      <th></th>\n",
       "    </tr>\n",
       "  </thead>\n",
       "  <tbody>\n",
       "    <tr>\n",
       "      <th>0</th>\n",
       "      <td>1.103018e+06</td>\n",
       "    </tr>\n",
       "    <tr>\n",
       "      <th>1</th>\n",
       "      <td>1.210034e+06</td>\n",
       "    </tr>\n",
       "  </tbody>\n",
       "</table>\n",
       "</div>"
      ],
      "text/plain": [
       "         Avg_Account_Balance\n",
       "Is_Lead                     \n",
       "0               1.103018e+06\n",
       "1               1.210034e+06"
      ]
     },
     "execution_count": 71,
     "metadata": {},
     "output_type": "execute_result"
    }
   ],
   "source": [
    "train.groupby('Is_Lead').agg({'Avg_Account_Balance':'mean'})"
   ]
  },
  {
   "cell_type": "code",
   "execution_count": 64,
   "metadata": {},
   "outputs": [
    {
     "data": {
      "image/png": "[encoded data removed]",
      "text/plain": [
       "<Figure size 432x288 with 1 Axes>"
      ]
     },
     "metadata": {
      "needs_background": "light"
     },
     "output_type": "display_data"
    }
   ],
   "source": [
    "sns.boxplot(x=\"Is_Lead\", y=\"Avg_Account_Balance\", data=train);"
   ]
  },
  {
   "cell_type": "markdown",
   "metadata": {},
   "source": [
    "Observation:\n",
    "- It seems that interested customer's average account balance is higher that the customers who are not interested to invest in a credit card.\n",
    "- So avg account balance may be a good factor to indetify potential customers"
   ]
  },
  {
   "cell_type": "code",
   "execution_count": 80,
   "metadata": {},
   "outputs": [
    {
     "data": {
      "image/png": "[encoded data removed]",
      "text/plain": [
       "<Figure size 432x288 with 1 Axes>"
      ]
     },
     "metadata": {
      "needs_background": "light"
     },
     "output_type": "display_data"
    }
   ],
   "source": [
    "var = train.groupby(['Gender','Is_Lead']).Is_Lead.count()\n",
    "var.unstack().plot(kind='bar',stacked=True, grid=False);"
   ]
  },
  {
   "cell_type": "markdown",
   "metadata": {},
   "source": [
    "Observation:\n",
    "- The proportion looks almost similar. There is not much difference wrt Gender. Both the type can tirn out to be a potential customer"
   ]
  },
  {
   "cell_type": "code",
   "execution_count": 81,
   "metadata": {},
   "outputs": [
    {
     "data": {
      "image/png": "[encoded data removed]",
      "text/plain": [
       "<Figure size 432x288 with 1 Axes>"
      ]
     },
     "metadata": {
      "needs_background": "light"
     },
     "output_type": "display_data"
    }
   ],
   "source": [
    "var = train.groupby(['Occupation','Is_Lead']).Is_Lead.count()\n",
    "var.unstack().plot(kind='bar',stacked=True, grid=False);"
   ]
  },
  {
   "cell_type": "code",
   "execution_count": 85,
   "metadata": {},
   "outputs": [
    {
     "data": {
      "image/png": "[encoded data removed]",
      "text/plain": [
       "<Figure size 432x288 with 1 Axes>"
      ]
     },
     "metadata": {
      "needs_background": "light"
     },
     "output_type": "display_data"
    }
   ],
   "source": [
    "var = train.groupby(['Channel_Code','Is_Lead']).Is_Lead.count()\n",
    "var.unstack().plot(kind='bar',stacked=True, grid=False);"
   ]
  },
  {
   "cell_type": "markdown",
   "metadata": {},
   "source": [
    "Observation:\n",
    "- It seems that when the acquisition Channel_Code is either X2 or X3 the customers are more likely to invest in the credit card. Whereas, for other acquisition channel types the interested customers number is not impressive"
   ]
  },
  {
   "cell_type": "code",
   "execution_count": 86,
   "metadata": {},
   "outputs": [
    {
     "data": {
      "image/png": "[encoded data removed]",
      "text/plain": [
       "<Figure size 432x288 with 1 Axes>"
      ]
     },
     "metadata": {
      "needs_background": "light"
     },
     "output_type": "display_data"
    }
   ],
   "source": [
    "var = train.groupby(['Is_Active','Is_Lead']).Is_Lead.count()\n",
    "var.unstack().plot(kind='bar',stacked=True, grid=False);"
   ]
  },
  {
   "cell_type": "markdown",
   "metadata": {},
   "source": [
    "### Step 5: Building Model"
   ]
  },
  {
   "cell_type": "code",
   "execution_count": 92,
   "metadata": {},
   "outputs": [
    {
     "data": {
      "text/plain": [
       "Index([], dtype='object')"
      ]
     },
     "execution_count": 92,
     "metadata": {},
     "output_type": "execute_result"
    }
   ],
   "source": [
    "train.select_dtypes(include='object').columns"
   ]
  },
  {
   "cell_type": "code",
   "execution_count": 84,
   "metadata": {},
   "outputs": [],
   "source": [
    "train.drop('ID',axis=1, inplace=True)"
   ]
  },
  {
   "cell_type": "code",
   "execution_count": 98,
   "metadata": {},
   "outputs": [],
   "source": [
    "train.drop('Vintage_new',axis=1, inplace=True)"
   ]
  },
  {
   "cell_type": "markdown",
   "metadata": {},
   "source": [
    "###### ApplyEncoding techniques to convert the categorical columns into numerical columns:\n",
    "- Will apply onehot encoding for Gender, Is_Active, Credit_Product, Region\n",
    "- Will apply label encoding on Occupation, Channel_Code"
   ]
  },
  {
   "cell_type": "code",
   "execution_count": 99,
   "metadata": {},
   "outputs": [],
   "source": [
    "# Labelencoding\n",
    "le = LabelEncoder()\n",
    "var_mod = train.select_dtypes(include='object').columns\n",
    "for i in var_mod:\n",
    "    train[i] = le.fit_transform(train[i])\n",
    "    \n",
    "for i in var_mod:\n",
    "    test[i] = le.fit_transform(test[i])"
   ]
  },
  {
   "cell_type": "markdown",
   "metadata": {},
   "source": [
    "* __Encoding the required columns from training and test dataset__"
   ]
  },
  {
   "cell_type": "code",
   "execution_count": 100,
   "metadata": {},
   "outputs": [
    {
     "data": {
      "text/plain": [
       "Index(['Gender', 'Age', 'Region_Code', 'Occupation', 'Channel_Code', 'Vintage',\n",
       "       'Credit_Product', 'Avg_Account_Balance', 'Is_Active', 'Is_Lead'],\n",
       "      dtype='object')"
      ]
     },
     "execution_count": 100,
     "metadata": {},
     "output_type": "execute_result"
    }
   ],
   "source": [
    "train.columns"
   ]
  },
  {
   "cell_type": "code",
   "execution_count": 101,
   "metadata": {},
   "outputs": [],
   "source": [
    "# Seperate Features and Target\n",
    "x = train.drop(columns = ['Is_Lead'], axis=1)\n",
    "y = train['Is_Lead']"
   ]
  },
  {
   "cell_type": "code",
   "execution_count": 102,
   "metadata": {},
   "outputs": [],
   "source": [
    "from sklearn.preprocessing import StandardScaler\n",
    "x_scalar = StandardScaler()\n",
    "X = x_scalar.fit_transform(x)"
   ]
  },
  {
   "cell_type": "code",
   "execution_count": 103,
   "metadata": {},
   "outputs": [],
   "source": [
    "# 20% data as validation set\n",
    "X_train,X_valid,y_train,y_valid = train_test_split(X,y,test_size=0.2,random_state=22,stratify=y)"
   ]
  },
  {
   "cell_type": "code",
   "execution_count": 118,
   "metadata": {},
   "outputs": [],
   "source": [
    "# necessary imports\n",
    "from lightgbm import LGBMClassifier\n",
    "from xgboost import XGBClassifier\n",
    "\n",
    "from hyperopt import hp, tpe, Trials, STATUS_OK\n",
    "from hyperopt import fmin\n",
    "\n",
    "from sklearn.metrics import roc_auc_score, accuracy_score"
   ]
  },
  {
   "cell_type": "code",
   "execution_count": 111,
   "metadata": {},
   "outputs": [
    {
     "name": "stdout",
     "output_type": "stream",
     "text": [
      "Sample Training Labels\n"
     ]
    },
    {
     "data": {
      "text/plain": [
       "83051     0\n",
       "137001    1\n",
       "224860    0\n",
       "49325     1\n",
       "90365     0\n",
       "Name: Is_Lead, dtype: int64"
      ]
     },
     "metadata": {},
     "output_type": "display_data"
    },
    {
     "name": "stdout",
     "output_type": "stream",
     "text": [
      "Sample Test Labels\n"
     ]
    },
    {
     "data": {
      "text/plain": [
       "108830    0\n",
       "215065    0\n",
       "84820     0\n",
       "240088    1\n",
       "216917    0\n",
       "Name: Is_Lead, dtype: int64"
      ]
     },
     "metadata": {},
     "output_type": "display_data"
    }
   ],
   "source": [
    "print('Sample Training Labels')\n",
    "display(y_train.head())\n",
    "print('Sample Test Labels')\n",
    "display(y_valid.head())"
   ]
  },
  {
   "cell_type": "markdown",
   "metadata": {},
   "source": [
    "#### Model Building:"
   ]
  },
  {
   "cell_type": "code",
   "execution_count": 119,
   "metadata": {},
   "outputs": [],
   "source": [
    "# defining a method for calculating accuracy,search time, hyperparameters etc for different models\n",
    "def org_results(trials, hyperparams, model_name):\n",
    "    fit_idx = -1\n",
    "    for idx, fit  in enumerate(trials):\n",
    "        hyp = fit['misc']['vals']\n",
    "        xgb_hyp = {key:[val] for key, val in hyperparams.items()}\n",
    "        if hyp == xgb_hyp:\n",
    "            fit_idx = idx\n",
    "            break\n",
    "            \n",
    "    train_time = str(trials[-1]['refresh_time'] - trials[0]['book_time'])\n",
    "    acc = round(trials[fit_idx]['result']['accuracy'], 3)\n",
    "    train_auc = round(trials[fit_idx]['result']['train auc'], 3)\n",
    "    test_auc = round(trials[fit_idx]['result']['test auc'], 3)\n",
    "\n",
    "    results = {\n",
    "        'model': model_name,\n",
    "        'parameter search time': train_time,\n",
    "        'accuracy': acc,\n",
    "        'test auc score': test_auc,\n",
    "        'training auc score': train_auc,\n",
    "        'parameters': hyperparams\n",
    "    }\n",
    "    return results"
   ]
  },
  {
   "cell_type": "code",
   "execution_count": 131,
   "metadata": {},
   "outputs": [],
   "source": [
    "# method to return the loss and the different accuracies for LGB model\n",
    "def lgb_objective(space, early_stopping_rounds=50):\n",
    "    \n",
    "    lgbm = LGBMClassifier(\n",
    "        learning_rate = space['learning_rate'],\n",
    "        n_estimators= int(space['n_estimators']), \n",
    "        max_depth = int(space['max_depth']),\n",
    "        num_leaves = int(space['num_leaves']),\n",
    "        colsample_bytree = space['colsample_bytree'],\n",
    "        feature_fraction = space['feature_fraction'],\n",
    "        reg_lambda = space['reg_lambda'],\n",
    "        reg_alpha = space['reg_alpha'],\n",
    "        min_split_gain = space['min_split_gain']\n",
    "    )\n",
    "    \n",
    "    lgbm.fit(X_train,y_train, \n",
    "            eval_set = [(X_valid, y_valid)],\n",
    "            early_stopping_rounds = early_stopping_rounds,\n",
    "            eval_metric = 'auc',\n",
    "            verbose = False)\n",
    "    \n",
    "    predictions = lgbm.predict(X_valid)\n",
    "    test_preds = lgbm.predict_proba(X_valid)[:,1]\n",
    "    train_preds = lgbm.predict_proba(X_train)[:,1]\n",
    "    \n",
    "    train_auc = roc_auc_score(y_train, train_preds)\n",
    "    test_auc = roc_auc_score(y_valid, test_preds)\n",
    "    accuracy = accuracy_score(y_valid, predictions)  \n",
    "\n",
    "    return {'status': STATUS_OK, 'loss': 1-test_auc, 'accuracy': accuracy,\n",
    "            'test auc': test_auc, 'train auc': train_auc\n",
    "           }\n"
   ]
  },
  {
   "cell_type": "code",
   "execution_count": 127,
   "metadata": {},
   "outputs": [
    {
     "name": "stdout",
     "output_type": "stream",
     "text": [
      "[LightGBM] [Warning] feature_fraction is set=0.9079453608290957, colsample_bytree=0.3550305259508927 will be ignored. Current value: feature_fraction=0.9079453608290957\n",
      "[LightGBM] [Warning] feature_fraction is set=0.9361407921956741, colsample_bytree=0.639570164934276 will be ignored. Current value: feature_fraction=0.9361407921956741\n",
      "[LightGBM] [Warning] feature_fraction is set=0.6461785980334116, colsample_bytree=0.9578547348420319 will be ignored. Current value: feature_fraction=0.6461785980334116\n",
      "[LightGBM] [Warning] feature_fraction is set=0.8607334974590239, colsample_bytree=0.7633035084361119 will be ignored. Current value: feature_fraction=0.8607334974590239\n",
      "[LightGBM] [Warning] feature_fraction is set=0.8709567420895747, colsample_bytree=0.7261702025372722 will be ignored. Current value: feature_fraction=0.8709567420895747\n",
      "[LightGBM] [Warning] feature_fraction is set=0.7957169169621541, colsample_bytree=0.5734179511789239 will be ignored. Current value: feature_fraction=0.7957169169621541\n",
      "[LightGBM] [Warning] feature_fraction is set=0.9661045786408384, colsample_bytree=0.43370621844933843 will be ignored. Current value: feature_fraction=0.9661045786408384\n",
      "[LightGBM] [Warning] feature_fraction is set=0.7031547369968267, colsample_bytree=0.6694128105670383 will be ignored. Current value: feature_fraction=0.7031547369968267\n",
      "[LightGBM] [Warning] feature_fraction is set=0.5259102864870261, colsample_bytree=0.8099401077398742 will be ignored. Current value: feature_fraction=0.5259102864870261\n",
      "[LightGBM] [Warning] feature_fraction is set=0.628833941701087, colsample_bytree=0.785134951446439 will be ignored. Current value: feature_fraction=0.628833941701087\n",
      "[LightGBM] [Warning] feature_fraction is set=0.5121814482276577, colsample_bytree=0.8286844108831857 will be ignored. Current value: feature_fraction=0.5121814482276577\n",
      "[LightGBM] [Warning] feature_fraction is set=0.6479256681624386, colsample_bytree=0.3240586007206735 will be ignored. Current value: feature_fraction=0.6479256681624386\n",
      "[LightGBM] [Warning] feature_fraction is set=0.3283754558836869, colsample_bytree=0.7830668354914653 will be ignored. Current value: feature_fraction=0.3283754558836869\n",
      "[LightGBM] [Warning] feature_fraction is set=0.8321838466400058, colsample_bytree=0.7404033295400534 will be ignored. Current value: feature_fraction=0.8321838466400058\n",
      "[LightGBM] [Warning] feature_fraction is set=0.6656721015036318, colsample_bytree=0.984473184704231 will be ignored. Current value: feature_fraction=0.6656721015036318\n",
      "[LightGBM] [Warning] feature_fraction is set=0.4433246705478435, colsample_bytree=0.885829018084878 will be ignored. Current value: feature_fraction=0.4433246705478435\n",
      "[LightGBM] [Warning] feature_fraction is set=0.8488756018894745, colsample_bytree=0.432936553019451 will be ignored. Current value: feature_fraction=0.8488756018894745\n",
      "[LightGBM] [Warning] feature_fraction is set=0.5831982274153531, colsample_bytree=0.41122124488780587 will be ignored. Current value: feature_fraction=0.5831982274153531\n",
      "[LightGBM] [Warning] feature_fraction is set=0.3506709987352985, colsample_bytree=0.587711387377759 will be ignored. Current value: feature_fraction=0.3506709987352985\n",
      "[LightGBM] [Warning] feature_fraction is set=0.4555905371131809, colsample_bytree=0.5645794004529967 will be ignored. Current value: feature_fraction=0.4555905371131809\n",
      "[LightGBM] [Warning] feature_fraction is set=0.7581214908229925, colsample_bytree=0.984588230304061 will be ignored. Current value: feature_fraction=0.7581214908229925\n",
      "[LightGBM] [Warning] feature_fraction is set=0.733832322836333, colsample_bytree=0.8916678165986921 will be ignored. Current value: feature_fraction=0.733832322836333\n",
      "[LightGBM] [Warning] feature_fraction is set=0.7998178712824964, colsample_bytree=0.9971221497666484 will be ignored. Current value: feature_fraction=0.7998178712824964\n",
      "[LightGBM] [Warning] feature_fraction is set=0.6915067897275153, colsample_bytree=0.8904185868863281 will be ignored. Current value: feature_fraction=0.6915067897275153\n",
      "[LightGBM] [Warning] feature_fraction is set=0.9833036773030069, colsample_bytree=0.6932873788268242 will be ignored. Current value: feature_fraction=0.9833036773030069\n",
      "[LightGBM] [Warning] feature_fraction is set=0.5689595041375021, colsample_bytree=0.9261912220161302 will be ignored. Current value: feature_fraction=0.5689595041375021\n",
      "[LightGBM] [Warning] feature_fraction is set=0.8138333937803991, colsample_bytree=0.4996147709235358 will be ignored. Current value: feature_fraction=0.8138333937803991\n",
      "[LightGBM] [Warning] feature_fraction is set=0.7476920600141698, colsample_bytree=0.8365521367712134 will be ignored. Current value: feature_fraction=0.7476920600141698\n",
      "[LightGBM] [Warning] feature_fraction is set=0.8829806790885268, colsample_bytree=0.6319355280086203 will be ignored. Current value: feature_fraction=0.8829806790885268\n",
      "[LightGBM] [Warning] feature_fraction is set=0.8966365530642529, colsample_bytree=0.6311833268353064 will be ignored. Current value: feature_fraction=0.8966365530642529\n",
      "[LightGBM] [Warning] feature_fraction is set=0.9332872047882894, colsample_bytree=0.5177569649851208 will be ignored. Current value: feature_fraction=0.9332872047882894\n",
      "[LightGBM] [Warning] feature_fraction is set=0.435591065720434, colsample_bytree=0.6246400771285137 will be ignored. Current value: feature_fraction=0.435591065720434\n",
      "[LightGBM] [Warning] feature_fraction is set=0.9960593311142507, colsample_bytree=0.5071990451157418 will be ignored. Current value: feature_fraction=0.9960593311142507\n",
      "[LightGBM] [Warning] feature_fraction is set=0.39120500349637194, colsample_bytree=0.7102336634593068 will be ignored. Current value: feature_fraction=0.39120500349637194\n",
      "[LightGBM] [Warning] feature_fraction is set=0.6836778858764664, colsample_bytree=0.6685663938540154 will be ignored. Current value: feature_fraction=0.6836778858764664\n",
      "[LightGBM] [Warning] feature_fraction is set=0.8934193535709328, colsample_bytree=0.5445520965016298 will be ignored. Current value: feature_fraction=0.8934193535709328\n",
      "[LightGBM] [Warning] feature_fraction is set=0.9378619088522023, colsample_bytree=0.9380086215527548 will be ignored. Current value: feature_fraction=0.9378619088522023\n",
      "[LightGBM] [Warning] feature_fraction is set=0.62054824861031, colsample_bytree=0.46974515812335593 will be ignored. Current value: feature_fraction=0.62054824861031\n",
      "[LightGBM] [Warning] feature_fraction is set=0.5437752191996421, colsample_bytree=0.7457014551522442 will be ignored. Current value: feature_fraction=0.5437752191996421\n",
      "[LightGBM] [Warning] feature_fraction is set=0.49526534530043825, colsample_bytree=0.37522688193019155 will be ignored. Current value: feature_fraction=0.49526534530043825\n",
      "[LightGBM] [Warning] feature_fraction is set=0.7714030206458451, colsample_bytree=0.3120746058657211 will be ignored. Current value: feature_fraction=0.7714030206458451\n",
      "[LightGBM] [Warning] feature_fraction is set=0.5910751930966918, colsample_bytree=0.6043042735722461 will be ignored. Current value: feature_fraction=0.5910751930966918\n",
      "[LightGBM] [Warning] feature_fraction is set=0.6026337330485364, colsample_bytree=0.5998816420949641 will be ignored. Current value: feature_fraction=0.6026337330485364\n",
      "[LightGBM] [Warning] feature_fraction is set=0.48614754107048547, colsample_bytree=0.354304954927684 will be ignored. Current value: feature_fraction=0.48614754107048547\n",
      "[LightGBM] [Warning] feature_fraction is set=0.6705002763958758, colsample_bytree=0.8375499022377912 will be ignored. Current value: feature_fraction=0.6705002763958758\n",
      "[LightGBM] [Warning] feature_fraction is set=0.7190886672278909, colsample_bytree=0.6817768509099001 will be ignored. Current value: feature_fraction=0.7190886672278909\n",
      "[LightGBM] [Warning] feature_fraction is set=0.5449188303936215, colsample_bytree=0.7806367760519568 will be ignored. Current value: feature_fraction=0.5449188303936215\n",
      "[LightGBM] [Warning] feature_fraction is set=0.30088629114334725, colsample_bytree=0.4507893392604581 will be ignored. Current value: feature_fraction=0.30088629114334725\n",
      "[LightGBM] [Warning] feature_fraction is set=0.6602506774985638, colsample_bytree=0.5408586421267101 will be ignored. Current value: feature_fraction=0.6602506774985638\n",
      "[LightGBM] [Warning] feature_fraction is set=0.4035712539731844, colsample_bytree=0.7219470889293996 will be ignored. Current value: feature_fraction=0.4035712539731844\n",
      "[LightGBM] [Warning] feature_fraction is set=0.6412852454037987, colsample_bytree=0.8598718303876869 will be ignored. Current value: feature_fraction=0.6412852454037987\n",
      "[LightGBM] [Warning] feature_fraction is set=0.5784495581983939, colsample_bytree=0.8045157350787386 will be ignored. Current value: feature_fraction=0.5784495581983939\n",
      "[LightGBM] [Warning] feature_fraction is set=0.7137324016397797, colsample_bytree=0.40469169656995785 will be ignored. Current value: feature_fraction=0.7137324016397797\n",
      "[LightGBM] [Warning] feature_fraction is set=0.6121845063268813, colsample_bytree=0.5978060416607353 will be ignored. Current value: feature_fraction=0.6121845063268813\n",
      "[LightGBM] [Warning] feature_fraction is set=0.7830229633123911, colsample_bytree=0.47894680631316416 will be ignored. Current value: feature_fraction=0.7830229633123911\n",
      "[LightGBM] [Warning] feature_fraction is set=0.47122281547590794, colsample_bytree=0.9693730501715936 will be ignored. Current value: feature_fraction=0.47122281547590794\n",
      "[LightGBM] [Warning] feature_fraction is set=0.5176735417980151, colsample_bytree=0.6608329597848325 will be ignored. Current value: feature_fraction=0.5176735417980151\n",
      "[LightGBM] [Warning] feature_fraction is set=0.8522858326320502, colsample_bytree=0.5610889063287576 will be ignored. Current value: feature_fraction=0.8522858326320502\n",
      "[LightGBM] [Warning] feature_fraction is set=0.39080286356109145, colsample_bytree=0.9160308024099338 will be ignored. Current value: feature_fraction=0.39080286356109145\n",
      "[LightGBM] [Warning] feature_fraction is set=0.8276678840895096, colsample_bytree=0.7572229978412517 will be ignored. Current value: feature_fraction=0.8276678840895096\n",
      "[LightGBM] [Warning] feature_fraction is set=0.5387694148598657, colsample_bytree=0.8610842354845352 will be ignored. Current value: feature_fraction=0.5387694148598657\n",
      "[LightGBM] [Warning] feature_fraction is set=0.3565511326573994, colsample_bytree=0.7064225665908277 will be ignored. Current value: feature_fraction=0.3565511326573994\n",
      "[LightGBM] [Warning] feature_fraction is set=0.5902533324025291, colsample_bytree=0.6106926988875917 will be ignored. Current value: feature_fraction=0.5902533324025291\n",
      "[LightGBM] [Warning] feature_fraction is set=0.7335967972045783, colsample_bytree=0.6479417367895478 will be ignored. Current value: feature_fraction=0.7335967972045783\n",
      "[LightGBM] [Warning] feature_fraction is set=0.5657089349980574, colsample_bytree=0.7986472255818126 will be ignored. Current value: feature_fraction=0.5657089349980574\n",
      "[LightGBM] [Warning] feature_fraction is set=0.6937958418563134, colsample_bytree=0.4047646100905065 will be ignored. Current value: feature_fraction=0.6937958418563134\n",
      "[LightGBM] [Warning] feature_fraction is set=0.7101669582168808, colsample_bytree=0.33464479145782466 will be ignored. Current value: feature_fraction=0.7101669582168808\n",
      "[LightGBM] [Warning] feature_fraction is set=0.6337539212479426, colsample_bytree=0.41735943019064137 will be ignored. Current value: feature_fraction=0.6337539212479426\n",
      "[LightGBM] [Warning] feature_fraction is set=0.6372748492199525, colsample_bytree=0.3793228867437727 will be ignored. Current value: feature_fraction=0.6372748492199525\n",
      "[LightGBM] [Warning] feature_fraction is set=0.7488470839935162, colsample_bytree=0.42364184025678336 will be ignored. Current value: feature_fraction=0.7488470839935162\n",
      "[LightGBM] [Warning] feature_fraction is set=0.6523890094096961, colsample_bytree=0.4520541615770774 will be ignored. Current value: feature_fraction=0.6523890094096961\n",
      "[LightGBM] [Warning] feature_fraction is set=0.6730492051766794, colsample_bytree=0.534114205566905 will be ignored. Current value: feature_fraction=0.6730492051766794\n",
      "[LightGBM] [Warning] feature_fraction is set=0.42348114197753156, colsample_bytree=0.48931300981623005 will be ignored. Current value: feature_fraction=0.42348114197753156\n",
      "[LightGBM] [Warning] feature_fraction is set=0.5622994895208704, colsample_bytree=0.5713769455413659 will be ignored. Current value: feature_fraction=0.5622994895208704\n",
      "[LightGBM] [Warning] feature_fraction is set=0.5994982242154587, colsample_bytree=0.45092090353017544 will be ignored. Current value: feature_fraction=0.5994982242154587\n",
      "[LightGBM] [Warning] feature_fraction is set=0.8092163670537271, colsample_bytree=0.5195222235285046 will be ignored. Current value: feature_fraction=0.8092163670537271\n",
      "[LightGBM] [Warning] feature_fraction is set=0.5010222114633563, colsample_bytree=0.46435716536889304 will be ignored. Current value: feature_fraction=0.5010222114633563\n",
      "[LightGBM] [Warning] feature_fraction is set=0.46560919856778166, colsample_bytree=0.37009445338042685 will be ignored. Current value: feature_fraction=0.46560919856778166\n",
      "[LightGBM] [Warning] feature_fraction is set=0.7714416133349815, colsample_bytree=0.5827396311083246 will be ignored. Current value: feature_fraction=0.7714416133349815\n",
      "[LightGBM] [Warning] feature_fraction is set=0.656102976513275, colsample_bytree=0.99858093874922 will be ignored. Current value: feature_fraction=0.656102976513275\n",
      "[LightGBM] [Warning] feature_fraction is set=0.8345978158660152, colsample_bytree=0.9992400960938654 will be ignored. Current value: feature_fraction=0.8345978158660152\n",
      "[LightGBM] [Warning] feature_fraction is set=0.7262843577094036, colsample_bytree=0.9248895025309918 will be ignored. Current value: feature_fraction=0.7262843577094036\n",
      "[LightGBM] [Warning] feature_fraction is set=0.6566628409166362, colsample_bytree=0.9545921709663632 will be ignored. Current value: feature_fraction=0.6566628409166362\n",
      "[LightGBM] [Warning] feature_fraction is set=0.6961458725618699, colsample_bytree=0.30085474069272256 will be ignored. Current value: feature_fraction=0.6961458725618699\n",
      "[LightGBM] [Warning] feature_fraction is set=0.9205100505611152, colsample_bytree=0.9812749260988027 will be ignored. Current value: feature_fraction=0.9205100505611152\n",
      "[LightGBM] [Warning] feature_fraction is set=0.6203059016713156, colsample_bytree=0.945708082213446 will be ignored. Current value: feature_fraction=0.6203059016713156\n",
      "[LightGBM] [Warning] feature_fraction is set=0.7890917092122899, colsample_bytree=0.9062838176574547 will be ignored. Current value: feature_fraction=0.7890917092122899\n",
      "[LightGBM] [Warning] feature_fraction is set=0.6785980376496346, colsample_bytree=0.8267790811775593 will be ignored. Current value: feature_fraction=0.6785980376496346\n",
      "[LightGBM] [Warning] feature_fraction is set=0.529733131268071, colsample_bytree=0.8797289748774729 will be ignored. Current value: feature_fraction=0.529733131268071\n",
      "[LightGBM] [Warning] feature_fraction is set=0.954309810708703, colsample_bytree=0.9842000880079895 will be ignored. Current value: feature_fraction=0.954309810708703\n",
      "[LightGBM] [Warning] feature_fraction is set=0.7452720507098438, colsample_bytree=0.9673864822699939 will be ignored. Current value: feature_fraction=0.7452720507098438\n",
      "[LightGBM] [Warning] feature_fraction is set=0.5539840686613755, colsample_bytree=0.8659332701764061 will be ignored. Current value: feature_fraction=0.5539840686613755\n",
      "[LightGBM] [Warning] feature_fraction is set=0.8721472212400787, colsample_bytree=0.771762333130488 will be ignored. Current value: feature_fraction=0.8721472212400787\n",
      "[LightGBM] [Warning] feature_fraction is set=0.7694374763061349, colsample_bytree=0.823044143080716 will be ignored. Current value: feature_fraction=0.7694374763061349\n",
      "[LightGBM] [Warning] feature_fraction is set=0.6555397753083083, colsample_bytree=0.7407245896859473 will be ignored. Current value: feature_fraction=0.6555397753083083\n",
      "[LightGBM] [Warning] feature_fraction is set=0.578844273866864, colsample_bytree=0.34700019024422685 will be ignored. Current value: feature_fraction=0.578844273866864\n"
     ]
    },
    {
     "name": "stdout",
     "output_type": "stream",
     "text": [
      "[LightGBM] [Warning] feature_fraction is set=0.6135709258002477, colsample_bytree=0.9073452238648423 will be ignored. Current value: feature_fraction=0.6135709258002477\n",
      "[LightGBM] [Warning] feature_fraction is set=0.7072705484017011, colsample_bytree=0.9402350916477289 will be ignored. Current value: feature_fraction=0.7072705484017011\n",
      "[LightGBM] [Warning] feature_fraction is set=0.8013424596154636, colsample_bytree=0.8782131920590089 will be ignored. Current value: feature_fraction=0.8013424596154636\n",
      "[LightGBM] [Warning] feature_fraction is set=0.4846786890734079, colsample_bytree=0.699945515714665 will be ignored. Current value: feature_fraction=0.4846786890734079\n",
      "[LightGBM] [Warning] feature_fraction is set=0.5112716397917362, colsample_bytree=0.6844211712866818 will be ignored. Current value: feature_fraction=0.5112716397917362\n",
      "[LightGBM] [Warning] feature_fraction is set=0.6707251335218649, colsample_bytree=0.3184831617538504 will be ignored. Current value: feature_fraction=0.6707251335218649\n",
      "[LightGBM] [Warning] feature_fraction is set=0.6034808864131886, colsample_bytree=0.3889746838431142 will be ignored. Current value: feature_fraction=0.6034808864131886\n",
      "[LightGBM] [Warning] feature_fraction is set=0.4463153119694173, colsample_bytree=0.8453764345026503 will be ignored. Current value: feature_fraction=0.4463153119694173\n",
      "[LightGBM] [Warning] feature_fraction is set=0.8223942596894005, colsample_bytree=0.9998837610407815 will be ignored. Current value: feature_fraction=0.8223942596894005\n",
      "[LightGBM] [Warning] feature_fraction is set=0.6409346722335315, colsample_bytree=0.6261863724721771 will be ignored. Current value: feature_fraction=0.6409346722335315\n",
      "[LightGBM] [Warning] feature_fraction is set=0.7495999223508459, colsample_bytree=0.8976399654646594 will be ignored. Current value: feature_fraction=0.7495999223508459\n",
      "[LightGBM] [Warning] feature_fraction is set=0.7308550600140441, colsample_bytree=0.5554004819810991 will be ignored. Current value: feature_fraction=0.7308550600140441\n",
      "[LightGBM] [Warning] feature_fraction is set=0.6852722969810284, colsample_bytree=0.44115688675532255 will be ignored. Current value: feature_fraction=0.6852722969810284\n",
      "[LightGBM] [Warning] feature_fraction is set=0.8486331615792716, colsample_bytree=0.7591655414011307 will be ignored. Current value: feature_fraction=0.8486331615792716\n",
      "[LightGBM] [Warning] feature_fraction is set=0.5291404797661641, colsample_bytree=0.7183201108531393 will be ignored. Current value: feature_fraction=0.5291404797661641\n",
      "[LightGBM] [Warning] feature_fraction is set=0.7639986148009115, colsample_bytree=0.5073235659205239 will be ignored. Current value: feature_fraction=0.7639986148009115\n",
      "[LightGBM] [Warning] feature_fraction is set=0.5548433001463443, colsample_bytree=0.7958974151009091 will be ignored. Current value: feature_fraction=0.5548433001463443\n",
      "[LightGBM] [Warning] feature_fraction is set=0.5750740457052071, colsample_bytree=0.8504214565213464 will be ignored. Current value: feature_fraction=0.5750740457052071\n",
      "[LightGBM] [Warning] feature_fraction is set=0.8969590455629296, colsample_bytree=0.9257812729918489 will be ignored. Current value: feature_fraction=0.8969590455629296\n",
      "[LightGBM] [Warning] feature_fraction is set=0.6974664270149891, colsample_bytree=0.6607033407129335 will be ignored. Current value: feature_fraction=0.6974664270149891\n",
      "[LightGBM] [Warning] feature_fraction is set=0.4133694613226945, colsample_bytree=0.9707501407989092 will be ignored. Current value: feature_fraction=0.4133694613226945\n",
      "[LightGBM] [Warning] feature_fraction is set=0.6296204088226829, colsample_bytree=0.8194703581858946 will be ignored. Current value: feature_fraction=0.6296204088226829\n",
      "[LightGBM] [Warning] feature_fraction is set=0.6502192217244699, colsample_bytree=0.3378199592794819 will be ignored. Current value: feature_fraction=0.6502192217244699\n",
      "[LightGBM] [Warning] feature_fraction is set=0.34013790303381486, colsample_bytree=0.527571954162767 will be ignored. Current value: feature_fraction=0.34013790303381486\n",
      "[LightGBM] [Warning] feature_fraction is set=0.30535612102495785, colsample_bytree=0.30172110548017766 will be ignored. Current value: feature_fraction=0.30535612102495785\n",
      "[LightGBM] [Warning] feature_fraction is set=0.7213436325584258, colsample_bytree=0.6438450636935803 will be ignored. Current value: feature_fraction=0.7213436325584258\n",
      "[LightGBM] [Warning] feature_fraction is set=0.3774061893631464, colsample_bytree=0.49908428558681894 will be ignored. Current value: feature_fraction=0.3774061893631464\n",
      "[LightGBM] [Warning] feature_fraction is set=0.5890138117339834, colsample_bytree=0.61439269225509 will be ignored. Current value: feature_fraction=0.5890138117339834\n",
      "[LightGBM] [Warning] feature_fraction is set=0.47451264554258066, colsample_bytree=0.4693517892227176 will be ignored. Current value: feature_fraction=0.47451264554258066\n",
      "[LightGBM] [Warning] feature_fraction is set=0.7830618021964031, colsample_bytree=0.36420834833761123 will be ignored. Current value: feature_fraction=0.7830618021964031\n",
      "[LightGBM] [Warning] feature_fraction is set=0.5101001816684891, colsample_bytree=0.583999811150983 will be ignored. Current value: feature_fraction=0.5101001816684891\n",
      "[LightGBM] [Warning] feature_fraction is set=0.6227939502553088, colsample_bytree=0.9545746947108718 will be ignored. Current value: feature_fraction=0.6227939502553088\n",
      "[LightGBM] [Warning] feature_fraction is set=0.6633391386100739, colsample_bytree=0.3976629179846812 will be ignored. Current value: feature_fraction=0.6633391386100739\n",
      "[LightGBM] [Warning] feature_fraction is set=0.9796781629454604, colsample_bytree=0.7809672079205541 will be ignored. Current value: feature_fraction=0.9796781629454604\n",
      "[LightGBM] [Warning] feature_fraction is set=0.5393360093415048, colsample_bytree=0.7278601696832401 will be ignored. Current value: feature_fraction=0.5393360093415048\n",
      "[LightGBM] [Warning] feature_fraction is set=0.6015024403783399, colsample_bytree=0.4326793891250983 will be ignored. Current value: feature_fraction=0.6015024403783399\n",
      "[LightGBM] [Warning] feature_fraction is set=0.7401958257376546, colsample_bytree=0.552310715538988 will be ignored. Current value: feature_fraction=0.7401958257376546\n",
      "[LightGBM] [Warning] feature_fraction is set=0.8746198208241123, colsample_bytree=0.48136535494193267 will be ignored. Current value: feature_fraction=0.8746198208241123\n",
      "[LightGBM] [Warning] feature_fraction is set=0.7097965955532302, colsample_bytree=0.8879002381210969 will be ignored. Current value: feature_fraction=0.7097965955532302\n",
      "[LightGBM] [Warning] feature_fraction is set=0.8344399595605978, colsample_bytree=0.9871073623611 will be ignored. Current value: feature_fraction=0.8344399595605978\n",
      "[LightGBM] [Warning] feature_fraction is set=0.6737119004839371, colsample_bytree=0.6832264432428243 will be ignored. Current value: feature_fraction=0.6737119004839371\n",
      "[LightGBM] [Warning] feature_fraction is set=0.8027758638405336, colsample_bytree=0.9342083038742806 will be ignored. Current value: feature_fraction=0.8027758638405336\n",
      "[LightGBM] [Warning] feature_fraction is set=0.5642108858393863, colsample_bytree=0.4521582602459076 will be ignored. Current value: feature_fraction=0.5642108858393863\n",
      "[LightGBM] [Warning] feature_fraction is set=0.7603312613007349, colsample_bytree=0.8714926007685435 will be ignored. Current value: feature_fraction=0.7603312613007349\n",
      "[LightGBM] [Warning] feature_fraction is set=0.4350115119751874, colsample_bytree=0.9695613982502611 will be ignored. Current value: feature_fraction=0.4350115119751874\n",
      "[LightGBM] [Warning] feature_fraction is set=0.6907456277469047, colsample_bytree=0.9077728722577977 will be ignored. Current value: feature_fraction=0.6907456277469047\n",
      "[LightGBM] [Warning] feature_fraction is set=0.8587106916678258, colsample_bytree=0.9976731861322948 will be ignored. Current value: feature_fraction=0.8587106916678258\n",
      "[LightGBM] [Warning] feature_fraction is set=0.6505050163614365, colsample_bytree=0.8040775237261835 will be ignored. Current value: feature_fraction=0.6505050163614365\n",
      "[LightGBM] [Warning] feature_fraction is set=0.919468872375629, colsample_bytree=0.8370097143899695 will be ignored. Current value: feature_fraction=0.919468872375629\n",
      "[LightGBM] [Warning] feature_fraction is set=0.5930196344117123, colsample_bytree=0.5987047948307616 will be ignored. Current value: feature_fraction=0.5930196344117123\n",
      "[LightGBM] [Warning] feature_fraction is set=0.49459260416387274, colsample_bytree=0.5373698162894274 will be ignored. Current value: feature_fraction=0.49459260416387274\n",
      "[LightGBM] [Warning] feature_fraction is set=0.5241930995831128, colsample_bytree=0.5671093667442952 will be ignored. Current value: feature_fraction=0.5241930995831128\n",
      "[LightGBM] [Warning] feature_fraction is set=0.6122799656456578, colsample_bytree=0.6127428717102509 will be ignored. Current value: feature_fraction=0.6122799656456578\n",
      "[LightGBM] [Warning] feature_fraction is set=0.6342508634567529, colsample_bytree=0.637760963753447 will be ignored. Current value: feature_fraction=0.6342508634567529\n",
      "100%|█████████████████████████████████████████████| 150/150 [11:34<00:00,  4.63s/trial, best loss: 0.12410813194676962]\n"
     ]
    },
    {
     "data": {
      "text/plain": [
       "{'model': 'LightGBM',\n",
       " 'parameter search time': '0:11:34.076000',\n",
       " 'accuracy': 0.862,\n",
       " 'test auc score': 0.876,\n",
       " 'training auc score': 0.879,\n",
       " 'parameters': {'colsample_bytree': 0.99858093874922,\n",
       "  'feature_fraction': 0.656102976513275,\n",
       "  'learning_rate': 0.03916060334412935,\n",
       "  'max_depth': 7.0,\n",
       "  'min_split_gain': 0.06958556792085792,\n",
       "  'n_estimators': 775.0,\n",
       "  'num_leaves': 35.0,\n",
       "  'reg_alpha': 0.003765527880479236,\n",
       "  'reg_lambda': 0.8621922133786086}}"
      ]
     },
     "metadata": {},
     "output_type": "display_data"
    }
   ],
   "source": [
    "\n",
    "trials = Trials()\n",
    "# defining parameters for LGB \n",
    "space = {\n",
    "    'learning_rate': hp.loguniform('learning_rate', np.log(0.001), np.log(0.3)),\n",
    "    'n_estimators': hp.quniform('n_estimators', 50, 1200, 25),\n",
    "    'max_depth': hp.quniform('max_depth', 1, 15, 1),\n",
    "    'num_leaves': hp.quniform('num_leaves', 10, 150, 1),\n",
    "    'colsample_bytree': hp.uniform('colsample_bytree', 0.3, 1.0), \n",
    "    'feature_fraction': hp.uniform('feature_fraction', .3, 1.0),\n",
    "    'reg_lambda': hp.uniform('reg_lambda', 0.0, 1.0),\n",
    "    'reg_alpha': hp.uniform('reg_alpha', 0.0, 1.0),\n",
    "    'min_split_gain': hp.uniform('min_split_gain', 0.0001, 0.1)\n",
    "}\n",
    "\n",
    "#  defining the hyper parameters\n",
    "lgb_hyperparams = fmin(fn = lgb_objective, \n",
    "                 max_evals = 150, \n",
    "                 trials = trials,\n",
    "                 algo = tpe.suggest,\n",
    "                 space = space\n",
    "                 )\n",
    "\n",
    "lgb_results = org_results(trials.trials, lgb_hyperparams, 'LightGBM') # calling the org_results function previously defined\n",
    "display(lgb_results)"
   ]
  },
  {
   "cell_type": "markdown",
   "metadata": {},
   "source": [
    "#### Saving the Model separately:"
   ]
  },
  {
   "cell_type": "code",
   "execution_count": 137,
   "metadata": {},
   "outputs": [
    {
     "name": "stdout",
     "output_type": "stream",
     "text": [
      "[LightGBM] [Warning] feature_fraction is set=0.656102976513275, colsample_bytree=0.99858093874922 will be ignored. Current value: feature_fraction=0.656102976513275\n",
      "status ok loss 0.12410813194676962 accuracy 0.8618984637297792 test auc 0.8758918680532304 train auc 0.879103200030148\n"
     ]
    }
   ],
   "source": [
    "# method to return the loss and the different accuracies for LGB model\n",
    "lgbm = LGBMClassifier(\n",
    "        learning_rate = 0.03916060334412935,\n",
    "        n_estimators= 775, \n",
    "        max_depth = 7,\n",
    "        num_leaves = 35,\n",
    "        colsample_bytree = 0.99858093874922,\n",
    "        feature_fraction = 0.656102976513275,\n",
    "        reg_lambda = 0.8621922133786086,\n",
    "        reg_alpha = 0.003765527880479236,\n",
    "        min_split_gain = 0.06958556792085792)\n",
    "    \n",
    "lgbm.fit(X_train,y_train, \n",
    "        eval_set = [(X_valid, y_valid)],\n",
    "        early_stopping_rounds = 50,\n",
    "        eval_metric = 'auc',\n",
    "        verbose = False)\n",
    "    \n",
    "predictions = lgbm.predict(X_valid)\n",
    "test_preds = lgbm.predict_proba(X_valid)[:,1]\n",
    "train_preds = lgbm.predict_proba(X_train)[:,1]\n",
    "    \n",
    "train_auc = roc_auc_score(y_train, train_preds)\n",
    "test_auc = roc_auc_score(y_valid, test_preds)\n",
    "accuracy = accuracy_score(y_valid, predictions)  \n",
    "\n",
    "print('status', STATUS_OK, 'loss', 1-test_auc, 'accuracy', accuracy, 'test auc', test_auc, 'train auc', train_auc)\n"
   ]
  },
  {
   "cell_type": "markdown",
   "metadata": {},
   "source": [
    "__Model Evaluation Results__"
   ]
  },
  {
   "cell_type": "code",
   "execution_count": 128,
   "metadata": {},
   "outputs": [
    {
     "data": {
      "text/plain": [
       "{'model': 'LightGBM',\n",
       " 'parameter search time': '0:11:34.076000',\n",
       " 'accuracy': 0.862,\n",
       " 'test auc score': 0.876,\n",
       " 'training auc score': 0.879,\n",
       " 'parameters': {'colsample_bytree': 0.99858093874922,\n",
       "  'feature_fraction': 0.656102976513275,\n",
       "  'learning_rate': 0.03916060334412935,\n",
       "  'max_depth': 7.0,\n",
       "  'min_split_gain': 0.06958556792085792,\n",
       "  'n_estimators': 775.0,\n",
       "  'num_leaves': 35.0,\n",
       "  'reg_alpha': 0.003765527880479236,\n",
       "  'reg_lambda': 0.8621922133786086}}"
      ]
     },
     "metadata": {},
     "output_type": "display_data"
    }
   ],
   "source": [
    "display(lgb_results)"
   ]
  },
  {
   "cell_type": "markdown",
   "metadata": {},
   "source": [
    "##### Make Predictions using the test dataset:"
   ]
  },
  {
   "cell_type": "code",
   "execution_count": 143,
   "metadata": {},
   "outputs": [
    {
     "data": {
      "text/plain": [
       "0    0\n",
       "1    0\n",
       "2    0\n",
       "3    0\n",
       "4    0\n",
       "5    0\n",
       "6    0\n",
       "7    0\n",
       "8    0\n",
       "9    0\n",
       "Name: Is_Lead, dtype: int64"
      ]
     },
     "execution_count": 143,
     "metadata": {},
     "output_type": "execute_result"
    }
   ],
   "source": [
    "submission = pd.read_csv('sample_submission_eyYijxG.csv')\n",
    "test.drop('ID',axis=1, inplace=True)\n",
    "final_predictions = lgbm.predict(test)\n",
    "submission['Is_Lead'] = final_predictions\n",
    "submission['Is_Lead'].head(10)"
   ]
  },
  {
   "cell_type": "code",
   "execution_count": 144,
   "metadata": {},
   "outputs": [
    {
     "data": {
      "text/plain": [
       "0    104236\n",
       "1      1076\n",
       "Name: Is_Lead, dtype: int64"
      ]
     },
     "execution_count": 144,
     "metadata": {},
     "output_type": "execute_result"
    }
   ],
   "source": [
    "submission['Is_Lead'].value_counts()"
   ]
  },
  {
   "cell_type": "markdown",
   "metadata": {},
   "source": [
    "##### Saving the submission file:"
   ]
  },
  {
   "cell_type": "code",
   "execution_count": 146,
   "metadata": {},
   "outputs": [],
   "source": [
    "submission.to_csv('LGBM_submission1.csv', index=False)"
   ]
  }
 ],
 "metadata": {
  "kernelspec": {
   "display_name": "Python 3",
   "language": "python",
   "name": "python3"
  },
  "language_info": {
   "codemirror_mode": {
    "name": "ipython",
    "version": 3
   },
   "file_extension": ".py",
   "mimetype": "text/x-python",
   "name": "python",
   "nbconvert_exporter": "python",
   "pygments_lexer": "ipython3",
   "version": "3.7.6"
  }
 },
 "nbformat": 4,
 "nbformat_minor": 2
}
