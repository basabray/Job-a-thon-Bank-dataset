{
 "cells": [
  {
   "cell_type": "code",
   "execution_count": 69,
   "metadata": {},
   "outputs": [],
   "source": [
    "import matplotlib.pyplot as plt\n",
    "import pandas as pd\n",
    "import numpy as np\n",
    "import seaborn as sns\n",
    "from sklearn.preprocessing import LabelEncoder\n",
    "from sklearn.model_selection import train_test_split\n",
    "from sklearn.linear_model import Ridge, Lasso, LogisticRegression\n",
    "from sklearn.tree import DecisionTreeClassifier\n",
    "from sklearn.neighbors import KNeighborsClassifier\n",
    "from sklearn.ensemble import AdaBoostClassifier\n",
    "from sklearn import metrics\n",
    "from sklearn.metrics import roc_auc_score, accuracy_score"
   ]
  },
  {
   "cell_type": "code",
   "execution_count": 70,
   "metadata": {},
   "outputs": [],
   "source": [
    "train=pd.read_csv('train_s3TEQDk.csv')\n",
    "test=pd.read_csv('test_mSzZ8RL.csv')"
   ]
  },
  {
   "cell_type": "code",
   "execution_count": 71,
   "metadata": {},
   "outputs": [
    {
     "name": "stdout",
     "output_type": "stream",
     "text": [
      "<class 'pandas.core.frame.DataFrame'>\n",
      "RangeIndex: 245725 entries, 0 to 245724\n",
      "Data columns (total 11 columns):\n",
      " #   Column               Non-Null Count   Dtype \n",
      "---  ------               --------------   ----- \n",
      " 0   ID                   245725 non-null  object\n",
      " 1   Gender               245725 non-null  object\n",
      " 2   Age                  245725 non-null  int64 \n",
      " 3   Region_Code          245725 non-null  object\n",
      " 4   Occupation           245725 non-null  object\n",
      " 5   Channel_Code         245725 non-null  object\n",
      " 6   Vintage              245725 non-null  int64 \n",
      " 7   Credit_Product       216400 non-null  object\n",
      " 8   Avg_Account_Balance  245725 non-null  int64 \n",
      " 9   Is_Active            245725 non-null  object\n",
      " 10  Is_Lead              245725 non-null  int64 \n",
      "dtypes: int64(4), object(7)\n",
      "memory usage: 20.6+ MB\n"
     ]
    }
   ],
   "source": [
    "train.info()"
   ]
  },
  {
   "cell_type": "code",
   "execution_count": 72,
   "metadata": {},
   "outputs": [
    {
     "data": {
      "text/plain": [
       "No     144357\n",
       "Yes     72043\n",
       "Name: Credit_Product, dtype: int64"
      ]
     },
     "execution_count": 72,
     "metadata": {},
     "output_type": "execute_result"
    }
   ],
   "source": [
    "train['Credit_Product'].value_counts()"
   ]
  },
  {
   "cell_type": "code",
   "execution_count": 73,
   "metadata": {},
   "outputs": [],
   "source": [
    "test['Credit_Product']=test['Credit_Product'].fillna(test['Credit_Product'].mode()[0])"
   ]
  },
  {
   "cell_type": "markdown",
   "metadata": {},
   "source": [
    "__Model Building:__"
   ]
  },
  {
   "cell_type": "code",
   "execution_count": 74,
   "metadata": {},
   "outputs": [],
   "source": [
    "# Labelencoding\n",
    "le = LabelEncoder()\n",
    "var_mod = train.select_dtypes(include='object').columns\n",
    "for i in var_mod:\n",
    "    train[i] = le.fit_transform(train[i])\n",
    "    \n",
    "for i in var_mod:\n",
    "    test[i] = le.fit_transform(test[i])"
   ]
  },
  {
   "cell_type": "code",
   "execution_count": 75,
   "metadata": {},
   "outputs": [],
   "source": [
    "# Seperate Features and Target\n",
    "y= train['Is_Lead']\n",
    "X= train.drop(columns = ['Is_Lead','ID','Region_Code'], axis=1)\n",
    "test=test.drop(columns=['ID','Region_Code'],axis=1)"
   ]
  },
  {
   "cell_type": "code",
   "execution_count": 76,
   "metadata": {},
   "outputs": [],
   "source": [
    "X_train,X_valid,y_train,y_valid = train_test_split(X,y,test_size=0.2,stratify=y)"
   ]
  },
  {
   "cell_type": "code",
   "execution_count": 77,
   "metadata": {},
   "outputs": [],
   "source": [
    "algos = [LogisticRegression(),  Ridge(alpha=0.2), Lasso(alpha=0.001),\n",
    "          KNeighborsClassifier(), DecisionTreeClassifier(),AdaBoostClassifier()]\n",
    "names = ['Logistic Regression', 'Ridge Regression', 'Lasso Regression',\n",
    "         'K Neighbors Regressor', 'Decision Tree Regressor','AdaboostClassifier']\n",
    "\n",
    "rocauc_list=[]\n",
    "rocauc_train=[]"
   ]
  },
  {
   "cell_type": "code",
   "execution_count": 78,
   "metadata": {},
   "outputs": [],
   "source": [
    "for name in algos:\n",
    "    model = name\n",
    "    model.fit(X_train,y_train)\n",
    "    y_pred = model.predict(X_valid)\n",
    "    y_pred_train=model.predict(X_train)\n",
    "    rocauc= metrics.roc_auc_score(y_valid,y_pred)\n",
    "    rocaucfortrain=metrics.roc_auc_score(y_train,y_pred_train)\n",
    "    rocauc_list.append(rocauc)\n",
    "    rocauc_train.append(rocaucfortrain)"
   ]
  },
  {
   "cell_type": "code",
   "execution_count": 79,
   "metadata": {},
   "outputs": [],
   "source": [
    "evaluation = pd.DataFrame({'Model': names,\n",
    "                           'roc_auc': rocauc_list,'rocauc_for_train': rocauc_train})"
   ]
  },
  {
   "cell_type": "code",
   "execution_count": 80,
   "metadata": {},
   "outputs": [
    {
     "data": {
      "text/html": [
       "<div>\n",
       "<style scoped>\n",
       "    .dataframe tbody tr th:only-of-type {\n",
       "        vertical-align: middle;\n",
       "    }\n",
       "\n",
       "    .dataframe tbody tr th {\n",
       "        vertical-align: top;\n",
       "    }\n",
       "\n",
       "    .dataframe thead th {\n",
       "        text-align: right;\n",
       "    }\n",
       "</style>\n",
       "<table border=\"1\" class=\"dataframe\">\n",
       "  <thead>\n",
       "    <tr style=\"text-align: right;\">\n",
       "      <th></th>\n",
       "      <th>Model</th>\n",
       "      <th>roc_auc</th>\n",
       "      <th>rocauc_for_train</th>\n",
       "    </tr>\n",
       "  </thead>\n",
       "  <tbody>\n",
       "    <tr>\n",
       "      <th>0</th>\n",
       "      <td>Logistic Regression</td>\n",
       "      <td>0.500000</td>\n",
       "      <td>0.500000</td>\n",
       "    </tr>\n",
       "    <tr>\n",
       "      <th>1</th>\n",
       "      <td>Ridge Regression</td>\n",
       "      <td>0.851790</td>\n",
       "      <td>0.852406</td>\n",
       "    </tr>\n",
       "    <tr>\n",
       "      <th>2</th>\n",
       "      <td>Lasso Regression</td>\n",
       "      <td>0.851792</td>\n",
       "      <td>0.852553</td>\n",
       "    </tr>\n",
       "    <tr>\n",
       "      <th>3</th>\n",
       "      <td>K Neighbors Regressor</td>\n",
       "      <td>0.530995</td>\n",
       "      <td>0.636630</td>\n",
       "    </tr>\n",
       "    <tr>\n",
       "      <th>4</th>\n",
       "      <td>Decision Tree Regressor</td>\n",
       "      <td>0.709574</td>\n",
       "      <td>0.999936</td>\n",
       "    </tr>\n",
       "    <tr>\n",
       "      <th>5</th>\n",
       "      <td>AdaboostClassifier</td>\n",
       "      <td>0.733677</td>\n",
       "      <td>0.734056</td>\n",
       "    </tr>\n",
       "  </tbody>\n",
       "</table>\n",
       "</div>"
      ],
      "text/plain": [
       "                     Model   roc_auc  rocauc_for_train\n",
       "0      Logistic Regression  0.500000          0.500000\n",
       "1         Ridge Regression  0.851790          0.852406\n",
       "2         Lasso Regression  0.851792          0.852553\n",
       "3    K Neighbors Regressor  0.530995          0.636630\n",
       "4  Decision Tree Regressor  0.709574          0.999936\n",
       "5       AdaboostClassifier  0.733677          0.734056"
      ]
     },
     "execution_count": 80,
     "metadata": {},
     "output_type": "execute_result"
    }
   ],
   "source": [
    "evaluation"
   ]
  },
  {
   "cell_type": "code",
   "execution_count": 13,
   "metadata": {},
   "outputs": [
    {
     "data": {
      "text/plain": [
       "LassoCV(alphas=[0.01, 0.03, 0.001, 0.1, 0.2, 0.02, 0.002], cv=5)"
      ]
     },
     "execution_count": 13,
     "metadata": {},
     "output_type": "execute_result"
    }
   ],
   "source": [
    "from sklearn.model_selection import GridSearchCV\n",
    "from sklearn.linear_model  import Ridge,Lasso,RidgeCV, LassoCV\n",
    "\n",
    "lassocv = LassoCV(alphas= [0.01,0.03,0.001,0.1,0.2,0.02,0.002],cv =5)\n",
    "lassocv.fit(X_train, y_train)"
   ]
  },
  {
   "cell_type": "code",
   "execution_count": 14,
   "metadata": {},
   "outputs": [
    {
     "data": {
      "text/plain": [
       "0.001"
      ]
     },
     "execution_count": 14,
     "metadata": {},
     "output_type": "execute_result"
    }
   ],
   "source": [
    "alpha = lassocv.alpha_\n",
    "alpha"
   ]
  },
  {
   "cell_type": "code",
   "execution_count": 15,
   "metadata": {},
   "outputs": [],
   "source": [
    "# Model Building\n",
    "features= X.columns\n",
    "lasso = Lasso(alpha=0.001)\n",
    "lasso.fit(X_train,y_train)\n",
    "y_pred = lasso.predict(X_valid)\n",
    "coef = pd.Series(lasso.coef_,features).sort_values()"
   ]
  },
  {
   "cell_type": "code",
   "execution_count": 16,
   "metadata": {},
   "outputs": [
    {
     "name": "stdout",
     "output_type": "stream",
     "text": [
      "The coefficients: \n",
      " Occupation            -1.851041e-03\n",
      "Age                   -2.517641e-04\n",
      "Avg_Account_Balance   -4.769524e-09\n",
      "Vintage                1.575969e-03\n",
      "Gender                 1.988278e-03\n",
      "Channel_Code           9.088812e-03\n",
      "Is_Active              5.243362e-02\n",
      "Credit_Product         3.243253e-01\n",
      "dtype: float64\n"
     ]
    }
   ],
   "source": [
    "print('The coefficients:','\\n',coef)"
   ]
  },
  {
   "cell_type": "code",
   "execution_count": 26,
   "metadata": {},
   "outputs": [],
   "source": [
    "train_preds = lasso.predict(X_train)\n",
    "test_preds = lasso.predict(X_valid)\n",
    "train_auc = roc_auc_score(y_train, train_preds)\n",
    "test_auc = roc_auc_score(y_valid, test_preds)"
   ]
  },
  {
   "cell_type": "code",
   "execution_count": 29,
   "metadata": {},
   "outputs": [
    {
     "name": "stdout",
     "output_type": "stream",
     "text": [
      "Test set auc: 0.8528730767456352 and Train set auc: 0.8522232660010982\n"
     ]
    }
   ],
   "source": [
    "print('Test set auc:', test_auc, 'and', 'Train set auc:', train_auc)"
   ]
  },
  {
   "cell_type": "code",
   "execution_count": 21,
   "metadata": {},
   "outputs": [],
   "source": [
    "submission = pd.read_csv('sample_submission_eyYijxG.csv')\n",
    "final_predictions = lasso.predict(test)\n",
    "submission['Is_Lead'] = final_predictions\n",
    "submission['Is_Lead'] = submission['Is_Lead'].apply(lambda x: 0 if x<0 else x)\n",
    "submission.to_csv('Lasso_submission1.csv', index=False)"
   ]
  },
  {
   "cell_type": "code",
   "execution_count": 23,
   "metadata": {},
   "outputs": [
    {
     "data": {
      "text/plain": [
       "0    0.334329\n",
       "1    0.052518\n",
       "2    0.000000\n",
       "3    0.022012\n",
       "4    0.000000\n",
       "Name: Is_Lead, dtype: float64"
      ]
     },
     "execution_count": 23,
     "metadata": {},
     "output_type": "execute_result"
    }
   ],
   "source": [
    "submission['Is_Lead'].head()"
   ]
  },
  {
   "cell_type": "code",
   "execution_count": null,
   "metadata": {},
   "outputs": [],
   "source": []
  }
 ],
 "metadata": {
  "kernelspec": {
   "display_name": "Python 3",
   "language": "python",
   "name": "python3"
  },
  "language_info": {
   "codemirror_mode": {
    "name": "ipython",
    "version": 3
   },
   "file_extension": ".py",
   "mimetype": "text/x-python",
   "name": "python",
   "nbconvert_exporter": "python",
   "pygments_lexer": "ipython3",
   "version": "3.7.6"
  }
 },
 "nbformat": 4,
 "nbformat_minor": 4
}
